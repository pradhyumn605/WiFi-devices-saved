{
 "cells": [
  {
   "cell_type": "code",
   "execution_count": 12,
   "metadata": {},
   "outputs": [
    {
     "name": "stdout",
     "output_type": "stream",
     "text": [
      "all connected wifi networks connected to computer are\n",
      "_____________________________________________________\n",
      "ASUS_X00TD\n",
      "Airtel\n",
      "JioFi_10AFC16\n",
      "Himanshi's phone\n",
      "extender\n",
      "OnePlus 6T\n"
     ]
    }
   ],
   "source": [
    "import subprocess\n",
    "meta_data = subprocess.check_output(['netsh','wlan','show','profile'])\n",
    "#print(meta_data)\n",
    "data = meta_data.decode('utf-8',errors=\"backslashreplace\")\n",
    "data= data.split('\\n')\n",
    "#print(data)\n",
    "names=[]\n",
    "for i in data:\n",
    "    if \"All User Profile\" in i:\n",
    "        i=i.split(\":\")\n",
    "        i=i[1]\n",
    "        i=i[1:-1]\n",
    "        names.append(i)\n",
    "print(\"all connected wifi networks connected to computer are\")\n",
    "print(\"_____________________________________________________\")\n",
    "for name in names:\n",
    "    print(name)"
   ]
  },
  {
   "cell_type": "code",
   "execution_count": null,
   "metadata": {},
   "outputs": [],
   "source": []
  }
 ],
 "metadata": {
  "kernelspec": {
   "display_name": "Python 3",
   "language": "python",
   "name": "python3"
  },
  "language_info": {
   "codemirror_mode": {
    "name": "ipython",
    "version": 3
   },
   "file_extension": ".py",
   "mimetype": "text/x-python",
   "name": "python",
   "nbconvert_exporter": "python",
   "pygments_lexer": "ipython3",
   "version": "3.8.3"
  }
 },
 "nbformat": 4,
 "nbformat_minor": 4
}
